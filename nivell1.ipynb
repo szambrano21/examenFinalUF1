{
 "cells": [
  {
   "cell_type": "markdown",
   "id": "fdaa6fe5-a80d-4673-ab95-5859bbd0b6f2",
   "metadata": {},
   "source": [
    "# Nivell 1"
   ]
  },
  {
   "cell_type": "markdown",
   "id": "e3b4ea48-2cb1-4ff6-b2f0-c2a631d05d2b",
   "metadata": {},
   "source": [
    "## Pregunta 1"
   ]
  },
  {
   "cell_type": "markdown",
   "id": "048a569f-5546-474c-9108-fed430deba23",
   "metadata": {},
   "source": [
    "Executa el següent codi en una cel·la:\n",
    "\n",
    "```java\n",
    "byte b1 = (byte)129;\n",
    "byte b2 = (byte)139;\n",
    "println(b1);\n",
    "println(b2);\n",
    "```"
   ]
  },
  {
   "cell_type": "code",
   "execution_count": 1,
   "id": "d143d56f-09e0-4e9f-aac0-048accd4c1f8",
   "metadata": {},
   "outputs": [
    {
     "name": "stdout",
     "output_type": "stream",
     "text": [
      "-127\n",
      "117\n"
     ]
    }
   ],
   "source": [
    "//Escriu i executa el codi aquí\n",
    "byte b1 = (byte)129;\n",
    "byte b2 = (byte)(-139);\n",
    "println(b1);\n",
    "println(b2);"
   ]
  },
  {
   "cell_type": "markdown",
   "id": "3aa5e002-7d9c-4d50-bd94-a7905dc37319",
   "metadata": {},
   "source": [
    "Digues quina de les següents respostes és la correcta:\n",
    "\n",
    "- a. En fer el casting a byte d'un enter, l'MSB que queda a b1 és un 0, i el que queda a b2 és un 1.\n",
    "\n",
    "- b. En fer el casting a byte d'un enter, l'MSB que queda a b1 és un 1, i el que queda a b2 és un 0.\n",
    "\n",
    "- c. En fer el casting a byte d'un enter, l'LSB que queda a b1 és un 0, i el que queda a b2 és un 1.\n",
    "\n",
    "- d. En fer el casting a byte d'un enter, l'LSB que queda a b1 és un 1, i el que queda a b2 és un 0.\n",
    "\n",
    "\n",
    "[MSB](https://en.wikipedia.org/wiki/Bit_numbering) (Most Significant Bit): és el bit de més a l'esquerra.\n",
    "\n",
    "[LSB](https://en.wikipedia.org/wiki/Bit_numbering) (Less Significant Bit): és el bit de més a la dreta."
   ]
  },
  {
   "cell_type": "markdown",
   "id": "e8e75e51-f5cb-46f5-8092-34f3145ed962",
   "metadata": {},
   "source": [
    "Resposta:\n",
    "\n",
    "_Escriu la teva resposta aquí (a, b, c o d)_ i **raona la teva resposta**.\n",
    "\n",
    "* b: el b perque esta fora del rang [-128,127], i el MSB representa el lloc mes mayor d'ordre del enter binari.     \n",
    "\n",
    "\n",
    "Nota: cal raonar la resposta per poder puntuar."
   ]
  },
  {
   "cell_type": "markdown",
   "id": "f3c3e485-34d2-4c5b-b299-111b37988088",
   "metadata": {},
   "source": [
    "## Pregunta 2"
   ]
  },
  {
   "cell_type": "markdown",
   "id": "2260437d-47e9-4709-b48a-f16ea3f70e0c",
   "metadata": {},
   "source": [
    "Executa el següent codi en una cel·la:\n",
    "\n",
    "```java\n",
    "char c = 67;\n",
    "int n = c;\n",
    "println(c);\n",
    "println(n);\n",
    "```"
   ]
  },
  {
   "cell_type": "code",
   "execution_count": 3,
   "id": "78b21702-c475-4aa9-ab6c-1997251eb0ad",
   "metadata": {},
   "outputs": [
    {
     "name": "stdout",
     "output_type": "stream",
     "text": [
      "C\n",
      "67\n"
     ]
    }
   ],
   "source": [
    "//Escriu i executa el codi aquí\n",
    "char c = 67;\n",
    "int n = c;\n",
    "println(c);\n",
    "println(n);"
   ]
  },
  {
   "cell_type": "markdown",
   "id": "2b891786-95e3-4ce6-9bcd-4345fdf02dfe",
   "metadata": {},
   "source": [
    "Explica per què aquest codi no _peta_:"
   ]
  },
  {
   "cell_type": "markdown",
   "id": "0e443e29-eefc-4943-9908-22e825121671",
   "metadata": {},
   "source": [
    "Resposta:\n",
    "\n",
    "_Escriu la teva resposta aquí_\n",
    "\n",
    "A chart se li assigna una variable integer, per tant si nosaltres fem un integer a 'n = c' no peta, peruqe la variable del chart es guardada.\n",
    "El chart equival a 8 numeros de byte.\n",
    "Cada tipus char té una interpretació com a sencer equivalent, així un char és una classe especial de sencer petit, per tant el valor es guarda dins.\n",
    "\n",
    " "
   ]
  },
  {
   "cell_type": "code",
   "execution_count": 32,
   "id": "d35bc281-039c-4e49-a190-a36ef70e8111",
   "metadata": {},
   "outputs": [
    {
     "ename": "CompilationException",
     "evalue": "",
     "output_type": "error",
     "traceback": [
      "\u001b[1m\u001b[30m|   \u001b[1m\u001b[30mchar c = \u001b[0m\u001b[1m\u001b[30m\u001b[41mn\u001b[0m\u001b[1m\u001b[30m;\u001b[0m",
      "\u001b[1m\u001b[31mincompatible types: possible lossy conversion from short to char\u001b[0m",
      ""
     ]
    }
   ],
   "source": [
    "//Ara executa el codi següent:\n",
    "short n = 67;\n",
    "char c = n;\n",
    "println(c);\n",
    "println(n);"
   ]
  },
  {
   "cell_type": "markdown",
   "id": "39246c72-5ff1-4ec0-aee8-853e95a9ca5f",
   "metadata": {},
   "source": [
    "Ara, explica per què aquest codi sí _peta_:"
   ]
  },
  {
   "cell_type": "markdown",
   "id": "fd9c6467-b2f9-4ae7-acd6-dca248629110",
   "metadata": {},
   "source": [
    "Resposta:\n",
    "\n",
    "_Escriu la teva resposta aquí_\n",
    "\n",
    "\n",
    "El shor nomès pot fer les conversions a (double, float, long, int), \n",
    "El short equival a 16 bytes, y el char nomès es pot fer conversions, al que tingui menors enters que ells: char tè 8bits. "
   ]
  },
  {
   "cell_type": "markdown",
   "id": "fc4c8446-8e5b-4df4-b9e4-82f7dfe73987",
   "metadata": {},
   "source": [
    "## Exercici 1"
   ]
  },
  {
   "cell_type": "markdown",
   "id": "e701dac0-7f06-4ceb-9f48-009dbfd1be73",
   "metadata": {},
   "source": [
    "Escriu una funció, la signatura de la qual serà\n",
    "\n",
    "```java\n",
    "int getNumOfEven(int[] n);\n",
    "```\n",
    "\n",
    "que retorni un enter igual al número total (o quantitat) de números parells que hi ha a l'array d'enters que se li passen com a paràmetre.\n",
    "\n",
    "Exemples:\n",
    "```\n",
    "[1,4,3,6,40] -> retorna 3 (hi ha 3 números parells)\n",
    "[0] -> retorna 1 (el 0 es considera parell)\n",
    "[-9,11,23,55] -> 0 (no hi ha cap número parell)\n",
    "[] -> retorna 0 (l'array buit no té cap element, per tant no té cap enter parell)\n",
    "```\n"
   ]
  },
  {
   "cell_type": "code",
   "execution_count": 63,
   "id": "40fcb645-da29-41dd-ab53-8e12f7898939",
   "metadata": {},
   "outputs": [
    {
     "name": "stdout",
     "output_type": "stream",
     "text": [
      "3\n",
      "1\n",
      "0\n",
      "0\n"
     ]
    }
   ],
   "source": [
    "//Escriu i prova el teu codi aquí\n",
    "\n",
    "int getNumOfEven(int[] n){\n",
    "    //El teu codi aquí    \n",
    "  int newArraySize = 0;\n",
    "  for(int i = 0; i < n.length; i++) {\n",
    "     if(n[i] % 2 == 0) {\n",
    "        newArraySize++;\n",
    "     }\n",
    "  }\n",
    "  return newArraySize;\n",
    "}\n",
    "//Crea les teves proves aquí\n",
    "int arrays[] = {1,4,3,6,40};\n",
    "println(getNumOfEven(arrays));\n",
    "\n",
    "int arrays_2[] = {0};\n",
    "println(getNumOfEven(arrays_2));\n",
    "\n",
    "int arrays_3[] = {-9,11,23,55};\n",
    "println(getNumOfEven(arrays_3));\n",
    "\n",
    "int arrays_4[] = {-9,11,23,55};\n",
    "println(getNumOfEven(arrays_4));"
   ]
  },
  {
   "cell_type": "markdown",
   "id": "01566c7e-828a-4ded-9da1-240f8560c7fb",
   "metadata": {},
   "source": [
    "## Exercici 2"
   ]
  },
  {
   "cell_type": "markdown",
   "id": "dd31eb52-c25a-4bdf-a125-049aaef50aa0",
   "metadata": {},
   "source": [
    "Escriu una funció, la signatura de la qual serà\n",
    "\n",
    "```java\n",
    "int[] removeNegatives1(int[] array);\n",
    "```\n",
    "\n",
    "que retorni un array igual que l'array d'enters que se li passa per paràmetre, però amb els elements negatius eliminats. Cada element negatiu serà substituit per un 0.\n",
    "\n",
    "Exemples:\n",
    "```\n",
    "[2,-1,-5,4,6] -> retorna [2,0,0,4,6]\n",
    "[0,-3,3] -> retorna [0,0,3] \n",
    "[] -> retorna [] (l'array buit -sense elements- retorna un array buit)\n",
    "```\n"
   ]
  },
  {
   "cell_type": "code",
   "execution_count": 50,
   "id": "ace84db0-b8f9-4ba8-a33d-530cb32d6d13",
   "metadata": {},
   "outputs": [
    {
     "name": "stdout",
     "output_type": "stream",
     "text": [
      "[2, 0, 0, 4, 6]\n",
      "[0, 0, 3]\n",
      "[]\n"
     ]
    }
   ],
   "source": [
    "//Escriu i prova el teu codi aquí\n",
    "\n",
    "int[] removeNegatives1(int[] array){\n",
    "    //El teu codi aquí\n",
    "\n",
    "    for(int n = 0; n < array.length; n++){\n",
    "        if(array[n] < 0){\n",
    "            array[n] = 0;\n",
    "    }\n",
    "}\n",
    "    return array;\n",
    "}\n",
    "\n",
    "//Crea les teves proves aquí\n",
    "int Array_2[] = {2,-1,-5,4,6};\n",
    "System.out.println(Arrays.toString(removeNegatives1(Array_2)));\n",
    "\n",
    "int Array_3[] = {0,-3,3};\n",
    "System.out.println(Arrays.toString(removeNegatives1(Array_3)));\n",
    "\n",
    "int Array_4[] = {};\n",
    "System.out.println(Arrays.toString(removeNegatives1(Array_4)));"
   ]
  },
  {
   "cell_type": "markdown",
   "id": "9f3acb59-4e0f-4d5c-8fdb-eaf5ba0df7d2",
   "metadata": {},
   "source": [
    "## Exercici 3 (arrays bidimensionals)"
   ]
  },
  {
   "cell_type": "markdown",
   "id": "5341f9c0-dcc0-4c3d-b04e-ee363bad35f1",
   "metadata": {},
   "source": [
    "A partir d'una matriu ``n x m`` d'enters, implementeu la següent funció, que retornarà un array d'enters de mida ``n`` amb els elements de la primera columna de la matriu (és a dir, el primer element de cada fila).\n",
    "\n",
    "```java\n",
    "int[] getFirstColumn(int[][] matrix);\n",
    "```\n",
    "\n",
    "Els arrays bidimensionals se'ls anomena **matrius**.\n",
    "\n",
    "``n`` és el nombre de files de la matriu.\n",
    "\n",
    "```m``` és el nombre de columnes de la matriu."
   ]
  },
  {
   "cell_type": "markdown",
   "id": "2229775b-2e0b-4f01-832e-8db56b733ab5",
   "metadata": {},
   "source": [
    "**Exemple**: A continuació teniu un exemple de matriu ``3 x 2`` (de 3 files i 2 columnes):"
   ]
  },
  {
   "cell_type": "code",
   "execution_count": 70,
   "id": "519d1b1b-c28a-4a1e-871c-759f0d7f2a10",
   "metadata": {},
   "outputs": [
    {
     "name": "stdout",
     "output_type": "stream",
     "text": [
      "0\n",
      "1\n",
      "2\n",
      "3\n",
      "4\n",
      "5\n"
     ]
    }
   ],
   "source": [
    "int[][] matrix = {{0,1},{2,3},{4,5}};\n",
    "\n",
    "//Primera fila, primera columna\n",
    "println(matrix[0][0]);\n",
    "\n",
    "//Primera fila, segona columna\n",
    "println(matrix[0][1]);\n",
    "\n",
    "//Segona fila, primera columna\n",
    "println(matrix[1][0]);\n",
    "\n",
    "//Segona fila, segona columna\n",
    "println(matrix[1][1]);\n",
    "\n",
    "//Tercera fila, primera columna\n",
    "println(matrix[2][0]);\n",
    "\n",
    "//Tercera fila, segona columna\n",
    "println(matrix[2][1]);"
   ]
  },
  {
   "cell_type": "markdown",
   "id": "ce2f4a42-2dfc-40ea-b5fe-895d1a618a74",
   "metadata": {},
   "source": [
    "> Amb aquest exemple, l'array que retornarà la funció que heu d'implementar serà [0,2,4]"
   ]
  },
  {
   "cell_type": "code",
   "execution_count": 75,
   "id": "7681584d-8209-40d0-abdf-af0e27d57882",
   "metadata": {},
   "outputs": [],
   "source": [
    "//Implementeu la funció aquí:\n",
    "\n",
    "int[] getFirstColumn(int[][] matrix){\n",
    "    int m = matrix.length;\n",
    "    int[] new_array = new int [m];\n",
    "    for (int x = 0; x <matrix.length; x++) {\n",
    "        for (int y = 0; y <  matrix[x].length; y++) {\n",
    "            if (y == 0) {\n",
    "                new_array[x] = matrix[x][y];\n",
    "            }\n",
    "        }\n",
    "    }\n",
    "    return new_array;\n",
    "}\n"
   ]
  },
  {
   "cell_type": "code",
   "execution_count": 72,
   "id": "e0672a3e-4c76-46bc-a4f0-1750fdc51f54",
   "metadata": {},
   "outputs": [
    {
     "name": "stdout",
     "output_type": "stream",
     "text": [
      "[0, 2, 4]\n"
     ]
    }
   ],
   "source": [
    "//Feu les vostres proves a continuació\n",
    "int[][] matrix = {{0,1},{2,3},{4,5}};\n",
    "System.out.println(Arrays.toString(getFirstColumn(matrix)));"
   ]
  }
 ],
 "metadata": {
  "kernelspec": {
   "display_name": "Java 11",
   "language": "java",
   "name": "java"
  },
  "language_info": {
   "codemirror_mode": "java",
   "file_extension": ".jshell",
   "mimetype": "text/x-java-source",
   "name": "Java",
   "pygments_lexer": "java",
   "version": "11.0.13+8-Ubuntu-0ubuntu1.20.04"
  }
 },
 "nbformat": 4,
 "nbformat_minor": 5
}
