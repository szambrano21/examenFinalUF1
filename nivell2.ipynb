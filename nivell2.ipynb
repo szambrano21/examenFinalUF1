{
 "cells": [
  {
   "cell_type": "code",
   "execution_count": 202,
   "id": "b896ed61-4487-4f55-b350-49e7d70dc4f6",
   "metadata": {
    "autorun": true,
    "tags": []
   },
   "outputs": [],
   "source": [
    "String printBinary(String binary, int blockSize, String separator) {\n",
    "        List<String> result = new ArrayList<>();\n",
    "        int index = 0;\n",
    "        while (index < binary.length()) {\n",
    "            result.add(binary.substring(index, Math.min(index + blockSize, binary.length())));\n",
    "            index += blockSize;\n",
    "        }\n",
    "\n",
    "        return result.stream().collect(java.util.stream.Collectors.joining(separator));\n",
    "    }\n",
    "void intToBin(int input){\n",
    "    String result = Integer.toBinaryString(input);\n",
    "    String resultWithPadding = String.format(\"%32s\", result).replaceAll(\" \", \"0\");\n",
    "    System.out.println(printBinary(resultWithPadding, 4, \" \")); \n",
    "}\n",
    "\n",
    "//La funció ```intToBin``` la podeu utilitzar, si voleu, com a ajuda per a respondre les preguntes 1 i 2."
   ]
  },
  {
   "cell_type": "markdown",
   "id": "54b801d8-b4b0-4b20-a67c-5b701d1e6f56",
   "metadata": {},
   "source": [
    "# Nivell 2"
   ]
  },
  {
   "cell_type": "markdown",
   "id": "6acb5fd8-9cfe-483a-8d6c-8e2b3f3b2692",
   "metadata": {},
   "source": [
    "## Pregunta 1"
   ]
  },
  {
   "cell_type": "markdown",
   "id": "42998526-bce2-4306-9a33-e618e8c5d05a",
   "metadata": {},
   "source": [
    "**Operadors shift**\n",
    "\n",
    "Executeu el seguent codi en una cel·la del notebook:\n",
    "\n",
    "```java\n",
    "int n = 10;\n",
    "println(n<<1 == n * 2);\n",
    "println(n<<2 == n * 4);\n",
    "println(n<<3 == n * 8);\n",
    "```\n",
    "\n",
    "Explica **per què** imprimeix _true_ en cada cas? (**Raona la resposta**)"
   ]
  },
  {
   "cell_type": "code",
   "execution_count": 3,
   "id": "1e241e28-fb81-4885-b03b-d5c1d4a1753a",
   "metadata": {},
   "outputs": [
    {
     "name": "stdout",
     "output_type": "stream",
     "text": [
      "true\n",
      "true\n",
      "true\n"
     ]
    }
   ],
   "source": [
    "//Escriu i executa el codi aquí\n",
    "\n",
    "int n = 10;\n",
    "println(n<<1 == n * 2);\n",
    "println(n<<2 == n * 4);\n",
    "println(n<<3 == n * 8);"
   ]
  },
  {
   "cell_type": "markdown",
   "id": "99cdca44-50f9-464b-a8e7-9a9ea4dcee6a",
   "metadata": {},
   "source": [
    "Resposta:\n",
    "\n",
    "_Escriu la teva resposta aquí_\n",
    "\n",
    "\n",
    "'**<<**' es un operador de java, que desplaza el valor binari a l'esquerra tant com indiqui el valor binari2. Els bits es mouen a l'esquerra y afegeixen tants ceros com indiqui el valor binari2.\n",
    "\n",
    "**Per tant en les operacions es fan una comparació i totes donen 'true' perque l'operació del resultat es la mateixa:**\n",
    "\n",
    "n << 1 : un 1 en el tercer bit (2<sup>2</sup>) = 4\n",
    "\n",
    "Un 1 en el cinquè bit (2<sup>4</sup>) = 16\n",
    "         \n",
    ":per tant la suma dels dos (16 + 4 = 20)\n",
    "\n",
    "n * 2 : 20.\n",
    "\n",
    "És a dir que els dos resultats son equivalents.\n",
    "\n",
    "**2na linea el mateix que la primera però amb un resultat diferent:**\n",
    "\n",
    "n << 2 : un 1 en el cinquè bit (2<sup>4</sup>) = 8\n",
    "\n",
    "Un 1 en el setè bit (2<sup>6</sup>) = 32\n",
    "         \n",
    ":per tant la suma dels dos (32 + 8 = 40)\n",
    "\n",
    "n * 2 : 40."
   ]
  },
  {
   "cell_type": "markdown",
   "id": "beac9e74-d4a2-481a-b351-db070966a91f",
   "metadata": {},
   "source": [
    "## Pregunta 2"
   ]
  },
  {
   "cell_type": "markdown",
   "id": "ab86a9cc-78b1-4d6b-af08-9d45d1d048be",
   "metadata": {},
   "source": [
    "Executa el següent codi, cada línia en una cel·la:\n",
    "\n",
    "```java\n",
    "int n = 10;\n",
    "println(n & ~n);\n",
    "println(n | ~n);\n",
    "```"
   ]
  },
  {
   "cell_type": "code",
   "execution_count": 2,
   "id": "26029d33-e1ef-46be-ae8a-35c4998e9520",
   "metadata": {},
   "outputs": [
    {
     "name": "stdout",
     "output_type": "stream",
     "text": [
      "0\n",
      "-1\n"
     ]
    }
   ],
   "source": [
    "//Escriu i executa el codi aquí\n",
    "\n",
    "int n = 10;\n",
    "println(n & ~n);\n",
    "println(n | ~n);"
   ]
  },
  {
   "cell_type": "markdown",
   "id": "80a32860-4a5b-45f8-96cf-945f298baaa6",
   "metadata": {},
   "source": [
    "Has de contestar dues preguntes:\n",
    "\n",
    "1 - Per què s'obté 0 i -1?\n",
    "\n",
    "Resposta:\n",
    "\n",
    "_Escriu la teva resposta aquí_\n",
    " \n",
    "En la tercera línia comparem bit a bit amb un &: el 10 té els bits segon i quart a 1, i el 4 té només el bit tercer a 1. Per tant, el resultat és tots els bits a 0, ja que no coincideix cap bit a 1 simultàniament en els dos operands.\n",
    "\n",
    "En la quarta línia es compara també bit a bit, però ara amb un | (OR bit a bit). Aquest operador dóna com a resultat un bit binari1 si, com a mínim, un dels dos bits comparats és 1. Per tant, els bits binari 2, binari3 i binari4 valdran 1 en el resultat.\n",
    "\n",
    "2 - Per què, posis el valor que li posis a la variable _n_, sempre dóna el mateix (0 i -1)?\n",
    "\n",
    "Resposta:\n",
    "\n",
    "_Escriu la teva resposta aquí_\n",
    "\n",
    "com no conincideix cap bit a 1 simultaneament en els dos, tot.\n",
    "\n",
    "\n",
    "Tal com parlabem anteriorment el si un dels bits comparats es 1 , els seguents bits tambè valdran 1.\n",
    "\n"
   ]
  },
  {
   "cell_type": "markdown",
   "id": "b61701fd-7032-4adb-af2a-508e0b667371",
   "metadata": {},
   "source": [
    "## Exercici 1"
   ]
  },
  {
   "cell_type": "markdown",
   "id": "747e1fa9-08e4-4881-a3be-5feb4fdb1057",
   "metadata": {},
   "source": [
    "Escriu una funció, la signatura de la qual serà\n",
    "\n",
    "```java\n",
    "int[] removeNegatives2(int[] array);\n",
    "```\n",
    "\n",
    "que retorni un array que només contingui els elements no negatius de l'array d'entrada (és a dir, els positius i els zeros).\n",
    "\n",
    "Exemples:\n",
    "```\n",
    "[2,-1,-5,4,6] -> retorna [2,4,6]\n",
    "[0,-3,3] -> retorna [0,3] \n",
    "[] -> retorna [] (l'array buit -sense elements- retorna un array buit)\n",
    "```\n"
   ]
  },
  {
   "cell_type": "code",
   "execution_count": 114,
   "id": "a7276dfd-5dea-47a9-a8b3-09b024258313",
   "metadata": {},
   "outputs": [
    {
     "name": "stdout",
     "output_type": "stream",
     "text": [
      "[2, 4, 6, 0]\n",
      "[3, 0]\n",
      "[]\n"
     ]
    }
   ],
   "source": [
    "int[] removeNegatives2(int[] array){\n",
    "    \n",
    "    int[] result = new int[array.length - 1];\n",
    "    \n",
    "   \n",
    "    int min = 0 ;\n",
    "    \n",
    "    for(int i = 0, k = 0; i < array.length; i++){\n",
    "        if(array[i] > min){\n",
    "            result[k] = array[i];\n",
    "            k++;\n",
    "        }\n",
    "    }\n",
    "    return result;\n",
    "}\n",
    "//Crea les teves proves aquí\n",
    "int[] test1 = {2,-1,-5,4,6};\n",
    "int[] test2 = {0,-3,3};\n",
    "int[] test3 = {0};\n",
    "\n",
    "println(Arrays.toString(removeNegatives2(test1)));\n",
    "println(Arrays.toString(removeNegatives2(test2)));\n",
    "println(Arrays.toString(removeNegatives2(test3)));\n",
    "\n",
    "// no se com eliminar aquest 0 que em surt...."
   ]
  },
  {
   "cell_type": "markdown",
   "id": "89d4609e-c040-4029-bd48-083b931f9f4d",
   "metadata": {},
   "source": [
    "## Exercici 2 (arrays bidimensionals)"
   ]
  },
  {
   "cell_type": "markdown",
   "id": "38fb449c-f92c-423e-9572-098dce117abd",
   "metadata": {},
   "source": [
    "En aquest exercici heu d'implementar una funció molt semblant a la del nivell 1 (arrays bidimensionals), però ara li passarem com a segon paràmetre un número enter ``k`` que representa la columna que volem obtenir de la matriu.\n",
    "\n",
    "Per tant, si la matriu que es passa com a primer paràmetre és de mida ``n x m`` (n files i m columnes), el valor de ``k`` estarà entre 0 i m-1. **Si el valor de k no està entre 0 i k-1, la funció ha de retornar null i imprimir per pantalla un missatge d'error**.\n",
    "\n",
    "El resultat d'aquesta funció quan k = 0 ha de ser idèntic al resultat retornat per la funció del nivell 1."
   ]
  },
  {
   "cell_type": "markdown",
   "id": "f76f6527-a444-4041-b02d-d08b901d4927",
   "metadata": {},
   "source": [
    "**Exemple**:\n",
    "\n",
    "```\n",
    "int[][] matrix = {{0,1},{2,3},{4,5}};\n",
    "\n",
    "getColumn(matrix,0) -> retorna [0,1]\n",
    "getColumn(matrix,1) -> retorna [2,3]\n",
    "getColumn(matrix,2) -> retorna [4,5]\n",
    "getColumn(matrix,-2) -> retorna null i imprimeix error\n",
    "getColumn(matrix,5) -> retorna null i imprimeix error\n",
    "```"
   ]
  },
  {
   "cell_type": "code",
   "execution_count": 252,
   "id": "63e6755c-0cbb-45fa-b7a9-dd8e15938602",
   "metadata": {},
   "outputs": [
    {
     "ename": "CompilationException",
     "evalue": "",
     "output_type": "error",
     "traceback": [
      "\u001b[1m\u001b[30m|   \u001b[1m\u001b[30m    int[] m = \u001b[0m\u001b[1m\u001b[30m\u001b[41mmatrix.length\u001b[0m\u001b[1m\u001b[30m;\u001b[0m",
      "\u001b[1m\u001b[31mincompatible types: int cannot be converted to int[]\u001b[0m",
      "",
      "\u001b[1m\u001b[30m|   \u001b[1m\u001b[30m    int[] new_array = new int [\u001b[0m\u001b[1m\u001b[30m\u001b[41mm\u001b[0m\u001b[1m\u001b[30m];\u001b[0m",
      "\u001b[1m\u001b[31mincompatible types: int[] cannot be converted to int\u001b[0m",
      "",
      "\u001b[1m\u001b[30m|   \u001b[1m\u001b[30m    for(\u001b[0m\u001b[1m\u001b[30m\u001b[41mint x = 0, k = 0\u001b[0m\u001b[1m\u001b[30m; x < matrix.length; x++){\u001b[0m",
      "\u001b[1m\u001b[31mvariable k is already defined in method getColumn(int[][],int)\u001b[0m",
      ""
     ]
    }
   ],
   "source": [
    "//Implementeu la funció aquí:\n",
    "\n",
    "int[] getColumn(int[][] matrix, int k){\n",
    "    \n",
    "    int[] m = matrix.length;\n",
    "    int[] new_array = new int [m];\n",
    "   \n",
    "    \n",
    "    for(int x = 0, k = 0; x < matrix.length; x++){\n",
    "        for (int y = 0; y <  matrix[y].length; y++) {\n",
    "            if (y > 0) {\n",
    "                new_array[y] = matrix[x][y];\n",
    "            }\n",
    "        }\n",
    "    }\n",
    "    return new_array;\n",
    "}"
   ]
  },
  {
   "cell_type": "code",
   "execution_count": null,
   "id": "940dc373-a4de-4dfd-b901-1e3b413e347e",
   "metadata": {},
   "outputs": [],
   "source": []
  },
  {
   "cell_type": "code",
   "execution_count": 250,
   "id": "ab8cb133-8b9b-41c3-9866-1eca5708cb2a",
   "metadata": {},
   "outputs": [
    {
     "name": "stdout",
     "output_type": "stream",
     "text": [
      "[0, 5, 0]\n"
     ]
    }
   ],
   "source": [
    "//Feu les vostres proves a continuació\n",
    "//Feu les vostres proves a continuació\n",
    "int[][] matrix = {{0,1},{2,3},{4,5}};\n",
    "System.out.println(Arrays.toString(getFirstColumn(matrix)));"
   ]
  }
 ],
 "metadata": {
  "kernelspec": {
   "display_name": "Java 11",
   "language": "java",
   "name": "java"
  },
  "language_info": {
   "codemirror_mode": "java",
   "file_extension": ".jshell",
   "mimetype": "text/x-java-source",
   "name": "Java",
   "pygments_lexer": "java",
   "version": "11.0.13+8-Ubuntu-0ubuntu1.20.04"
  }
 },
 "nbformat": 4,
 "nbformat_minor": 5
}
