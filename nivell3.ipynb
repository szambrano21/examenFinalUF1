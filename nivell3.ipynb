{
 "cells": [
  {
   "cell_type": "markdown",
   "id": "47a95175-c703-484c-8202-f7cc8c96b687",
   "metadata": {},
   "source": [
    "# Nivell 3"
   ]
  },
  {
   "cell_type": "markdown",
   "id": "6d67f3be-852b-461c-986d-0c7e8295e426",
   "metadata": {},
   "source": [
    "## Exercici 1"
   ]
  },
  {
   "cell_type": "markdown",
   "id": "e09a0643-317c-403f-82f9-9b0445c99fd9",
   "metadata": {},
   "source": [
    "En aquest exercici has d'implementar una funció, que tindrà la següent signatura:\n",
    "\n",
    "```java\n",
    "String[] codeVowels(String[] words);\n",
    "```\n",
    "\n",
    "La transformació que ha de fer aquesta funció és la següent:\n",
    "\n",
    "Ha de retornar un nou array que contingui les mateixes paraules que l'array _words_ original, però substituint totes les vocals (**majúscules i minúscules**) pels següents corresponents caràcters:\n",
    "```\n",
    "a | A -> 4\n",
    "e | E -> 3\n",
    "i | I -> !\n",
    "o | O -> 0\n",
    "u | U -> 1\n",
    "```\n",
    "\n",
    "\n",
    "Exemples:\n",
    "```\n",
    "[\"Hola\",\"Java\",\"Dev\",\"Universitat\"] -> retorna [\"H0l4\",\"J4v4\",\"D3v\",\"1n!v3rs!t4t\"]\n",
    "[\"AMIC\",\"amic\"] -> retorna [\"4m!c\",\"4m!c\"] \n",
    "[] -> retorna [] (l'array buit -sense elements- retorna un array buit)\n",
    "```\n"
   ]
  },
  {
   "cell_type": "code",
   "execution_count": null,
   "id": "0c17d641-b528-4b87-b5df-dde8b4a58812",
   "metadata": {},
   "outputs": [],
   "source": [
    "String[] codeVowels(String[] words)){\n",
    "    //TODO\n",
    "}\n",
    "\n",
    "//Les teves proves a continuació"
   ]
  },
  {
   "cell_type": "markdown",
   "id": "47dbd957-7168-4fb8-912d-7c76769b7f19",
   "metadata": {},
   "source": [
    "## Exercici 2 (arrays bidimensionals)"
   ]
  },
  {
   "cell_type": "markdown",
   "id": "42ada42c-4112-401e-9c53-be7279e747bb",
   "metadata": {},
   "source": [
    "A partir d'una matriu ``n x m`` d'enters, implementeu la següent funció, que retornarà un array **de doubles** de mida ``n`` tal que els seus elements seran cadascun la mitjana aritmètica de tots els valors de cada fila (és a dir, el primer element de l'array a retornar serà la mitjana aritmètica de tots els valors de la primera fila de la matriu, el segon element... de la segona fila de la matriu, etc.).\n",
    "\n",
    "```java\n",
    "double[] getAveragesPerRow(int[][] matrix);\n",
    "```"
   ]
  },
  {
   "cell_type": "markdown",
   "id": "7e8a473d-262c-4796-b879-0f39b9d7cc54",
   "metadata": {},
   "source": [
    "Exemple:\n",
    "```\n",
    "int[][] matrix = {{0,1},{2,3},{4,5}};\n",
    "```\n",
    "\n",
    "La mitjana aritmètica de la primera fila és ``(0 + 1) / 2 = 0.5``\n",
    "\n",
    "La mitjana aritmètica de la segona fila és ``(2 + 3) / 2 = 2.5``\n",
    "\n",
    "La mitjana aritmètica de la tercera fila és ``(4 + 5) / 2 = 4.5``\n",
    "\n",
    "> Així, l'array a retornar per la funció serà [0.5, 2.5, 4.5]"
   ]
  },
  {
   "cell_type": "markdown",
   "id": "9392a8a3-8e17-45f6-9fe5-a6e4092ab303",
   "metadata": {},
   "source": [
    "NOTA: podeu reutilitzar la funció ``average`` que vau fer en una activitat anterior, per a calcular la mitjana aritmètica de cada fila."
   ]
  },
  {
   "cell_type": "code",
   "execution_count": null,
   "id": "0c03f061-d7cd-4f28-898a-e1453c63d9b0",
   "metadata": {},
   "outputs": [],
   "source": [
    "//Implementeu la funció aquí:\n",
    "\n",
    "double[] getAveragesPerRow(int[][] matrix){\n",
    "    \n",
    "\n",
    "}"
   ]
  },
  {
   "cell_type": "code",
   "execution_count": null,
   "id": "e99cdd4c-ae2d-41f7-9a1f-f86a894457f0",
   "metadata": {},
   "outputs": [],
   "source": [
    "//Feu les vostres proves a continuació"
   ]
  },
  {
   "cell_type": "code",
   "execution_count": null,
   "id": "11822c25-fcaa-438b-bf6f-4416fa5f91e0",
   "metadata": {},
   "outputs": [],
   "source": []
  }
 ],
 "metadata": {
  "kernelspec": {
   "display_name": "Java 11",
   "language": "java",
   "name": "java"
  },
  "language_info": {
   "codemirror_mode": "java",
   "file_extension": ".jshell",
   "mimetype": "text/x-java-source",
   "name": "Java",
   "pygments_lexer": "java",
   "version": "11.0.13+8-Ubuntu-0ubuntu1.20.04"
  }
 },
 "nbformat": 4,
 "nbformat_minor": 5
}
